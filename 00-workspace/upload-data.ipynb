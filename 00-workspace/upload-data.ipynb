{
 "cells": [
  {
   "cell_type": "code",
   "execution_count": 4,
   "id": "e0f69509",
   "metadata": {},
   "outputs": [
    {
     "name": "stderr",
     "output_type": "stream",
     "text": [
      "/var/folders/z8/whjpvhfd7yg_pntm9383gb8c0000gn/T/ipykernel_15282/834592364.py:10: DtypeWarning: Columns (6) have mixed types. Specify dtype option on import or set low_memory=False.\n",
      "  df = pd.read_csv(csv_name)\n"
     ]
    },
    {
     "name": "stdout",
     "output_type": "stream",
     "text": [
      "   VendorID tpep_pickup_datetime tpep_dropoff_datetime  passenger_count  \\\n",
      "0       1.0  2021-01-01 00:30:10   2021-01-01 00:36:12              1.0   \n",
      "1       1.0  2021-01-01 00:51:20   2021-01-01 00:52:19              1.0   \n",
      "2       1.0  2021-01-01 00:43:30   2021-01-01 01:11:06              1.0   \n",
      "3       1.0  2021-01-01 00:15:48   2021-01-01 00:31:01              0.0   \n",
      "4       2.0  2021-01-01 00:31:49   2021-01-01 00:48:21              1.0   \n",
      "\n",
      "   trip_distance  RatecodeID store_and_fwd_flag  PULocationID  DOLocationID  \\\n",
      "0           2.10         1.0                  N           142            43   \n",
      "1           0.20         1.0                  N           238           151   \n",
      "2          14.70         1.0                  N           132           165   \n",
      "3          10.60         1.0                  N           138           132   \n",
      "4           4.94         1.0                  N            68            33   \n",
      "\n",
      "   payment_type  fare_amount  extra  mta_tax  tip_amount  tolls_amount  \\\n",
      "0           2.0          8.0    3.0      0.5        0.00           0.0   \n",
      "1           2.0          3.0    0.5      0.5        0.00           0.0   \n",
      "2           1.0         42.0    0.5      0.5        8.65           0.0   \n",
      "3           1.0         29.0    0.5      0.5        6.05           0.0   \n",
      "4           1.0         16.5    0.5      0.5        4.06           0.0   \n",
      "\n",
      "   improvement_surcharge  total_amount  congestion_surcharge  \n",
      "0                    0.3         11.80                   2.5  \n",
      "1                    0.3          4.30                   0.0  \n",
      "2                    0.3         51.95                   0.0  \n",
      "3                    0.3         36.35                   0.0  \n",
      "4                    0.3         24.36                   2.5  \n"
     ]
    }
   ],
   "source": [
    "import pandas as pd \n",
    "\n",
    "# URL for taxi data\n",
    "url = \"https://github.com/DataTalksClub/nyc-tlc-data/releases/download/yellow/yellow_tripdata_2021-01.csv.gz\"\n",
    "\n",
    "# Extract file name from URL\n",
    "csv_name = url.split(\"/\")[-1]\n",
    "\n",
    "# Read compressed CSV directly into a dataframe\n",
    "df = pd.read_csv(csv_name)\n",
    "\n",
    "print(df.head())\n"
   ]
  }
 ],
 "metadata": {
  "kernelspec": {
   "display_name": "Python 3",
   "language": "python",
   "name": "python3"
  },
  "language_info": {
   "codemirror_mode": {
    "name": "ipython",
    "version": 3
   },
   "file_extension": ".py",
   "mimetype": "text/x-python",
   "name": "python",
   "nbconvert_exporter": "python",
   "pygments_lexer": "ipython3",
   "version": "3.12.1"
  }
 },
 "nbformat": 4,
 "nbformat_minor": 5
}
