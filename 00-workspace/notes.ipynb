{
 "cells": [
  {
   "cell_type": "markdown",
   "id": "ac6f8373",
   "metadata": {},
   "source": [
    "## 1️⃣ Step 1: Set up Docker "
   ]
  },
  {
   "cell_type": "markdown",
   "id": "4bf65f8f",
   "metadata": {},
   "source": [
    "### 🔧 Key Docker Concepts\n",
    "\n",
    "| **Concept**   | **Example**                        | **What It Means**                                         |\n",
    "|---------------|------------------------------------|------------------------------------------------------------|\n",
    "| **Image**     | `python:latest`, `postgres:15`     | A snapshot blueprint — like a cake recipe                  |\n",
    "| **Container** | `docker run -it python:latest`     | A live instance of that image — like a baked cake          |\n",
    "| **Dockerfile**| `FROM python:3.12 ...`             | A way to define your own image — ingredients + steps       |\n",
    "| **Build**     | `docker build -t myimage .`        | Turn the Dockerfile into an image                          |\n",
    "| **Run**       | `docker run -it myimage`           | Create a container from your image                         |\n",
    "| **EntryPoint**| `--entrypoint=bash`                | Override the default \"what to do when container starts\"    |\n",
    "| **Volume**    | `-v $(pwd):/app` (later)           | Mount your local files into container (for persistence)    |\n"
   ]
  },
  {
   "cell_type": "markdown",
   "id": "af3814c8",
   "metadata": {},
   "source": [
    "### 🧠 Docker Mental Model: Typical Workflow"
   ]
  },
  {
   "cell_type": "markdown",
   "id": "5525bd29",
   "metadata": {},
   "source": [
    "| **Step**                     | **Command**                                 | **What It Means**                                                                 |\n",
    "| ---------------------------- | ------------------------------------------- | --------------------------------------------------------------------------------- |\n",
    "| 🧾 Write a `Dockerfile`      | `FROM python:3.12`<br>`RUN pip install ...` | Define the environment you want (OS, packages, code, etc.)                        |\n",
    "| 🏗️ Build the image          | `docker build -t my-image .`                | Create an image from your Dockerfile (bakes your \"blueprint\")                     |\n",
    "| 🧪 Run a container           | `docker run -it my-image`                   | Start a container (your image, but running like a little isolated machine)        |\n",
    "| 🔧 Do stuff in the container | `python`, `bash`, etc.                      | Run commands, test things, or run apps in that little machine                     |\n",
    "| 🛑 Stop & remove when done   | `docker stop`, `docker rm`                  | Clean up your container when you’re finished                                      |\n",
    "| 📦 (Optional) Mount volumes  | `-v $(pwd):/app`                            | Connect your local files to the container so changes are saved outside it         |\n",
    "| 🌐 (Optional) Expose ports   | `-p 5432:5432`                              | Let your container be reachable on your machine (e.g., for Postgres, web servers) |\n"
   ]
  },
  {
   "cell_type": "markdown",
   "id": "f472a207",
   "metadata": {},
   "source": [
    "## Step 2: Run Postgres on Docker \n",
    "\n",
    "- Create a `docker-compose.yaml` file to define the Postgres service and credentials\n",
    "- Use the **official Postgres image** from Docker Hub (`postgres:13`)\n",
    "- Create a `ny_taxi_postgres_data/` folder to persist Postgres data outside the container"
   ]
  }
 ],
 "metadata": {
  "language_info": {
   "name": "python"
  }
 },
 "nbformat": 4,
 "nbformat_minor": 5
}
